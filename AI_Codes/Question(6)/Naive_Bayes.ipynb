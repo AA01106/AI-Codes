{
  "cells": [
    {
      "cell_type": "markdown",
      "id": "bc60d141",
      "metadata": {
        "id": "bc60d141"
      },
      "source": [
        "#  Multinomial  NB"
      ]
    },
    {
      "cell_type": "markdown",
      "id": "0bb2a70b",
      "metadata": {
        "id": "0bb2a70b"
      },
      "source": [
        "## Importing the libraries"
      ]
    },
    {
      "cell_type": "code",
      "execution_count": 4,
      "id": "14e014d4",
      "metadata": {
        "id": "14e014d4"
      },
      "outputs": [],
      "source": [
        "import numpy as np\n",
        "import matplotlib.pyplot as plt \n",
        "import pandas as pd"
      ]
    },
    {
      "cell_type": "markdown",
      "id": "11675dac",
      "metadata": {
        "id": "11675dac"
      },
      "source": [
        "# Importing the dataset"
      ]
    },
    {
      "cell_type": "code",
      "execution_count": 5,
      "id": "69b55d35",
      "metadata": {
        "id": "69b55d35"
      },
      "outputs": [],
      "source": [
        "dataset=pd.read_csv(\"train.csv\")\n",
        "x=dataset.iloc[:,2].values \n",
        "y=dataset.iloc[:, 1].values"
      ]
    },
    {
      "cell_type": "markdown",
      "id": "7d2dbc7b",
      "metadata": {
        "id": "7d2dbc7b"
      },
      "source": [
        "## Splitting the dataset into the Training set and Test set"
      ]
    },
    {
      "cell_type": "code",
      "execution_count": 6,
      "id": "215ee31e",
      "metadata": {
        "id": "215ee31e"
      },
      "outputs": [],
      "source": [
        "from sklearn.model_selection import train_test_split\n",
        "x_train , x_test, y_train , y_test = train_test_split(x,y,test_size=0.25,random_state=0)\n"
      ]
    },
    {
      "cell_type": "markdown",
      "id": "a6fb617b",
      "metadata": {
        "id": "a6fb617b"
      },
      "source": [
        "## Converting the messages to a word count matrix for train and test data"
      ]
    },
    {
      "cell_type": "code",
      "execution_count": 7,
      "id": "f7be590d",
      "metadata": {
        "id": "f7be590d"
      },
      "outputs": [],
      "source": [
        "from sklearn.feature_extraction.text import CountVectorizer\n",
        "cv = CountVectorizer()\n",
        "x_train = cv.fit_transform(x_train)\n",
        "x_test=cv.transform(x_test)"
      ]
    },
    {
      "cell_type": "markdown",
      "id": "cf8eae40",
      "metadata": {
        "id": "cf8eae40"
      },
      "source": [
        "## Training the Multinomial  Naive Bayes model on the Training set"
      ]
    },
    {
      "cell_type": "code",
      "execution_count": 8,
      "id": "f978491a",
      "metadata": {
        "colab": {
          "base_uri": "https://localhost:8080/"
        },
        "id": "f978491a",
        "outputId": "ad466aae-6c89-4714-9848-edfd8b76614f"
      },
      "outputs": [
        {
          "output_type": "execute_result",
          "data": {
            "text/plain": [
              "MultinomialNB()"
            ]
          },
          "metadata": {},
          "execution_count": 8
        }
      ],
      "source": [
        "from sklearn.naive_bayes import MultinomialNB\n",
        "\n",
        "multi_model = MultinomialNB()\n",
        "multi_model.fit(x_train, y_train)\n"
      ]
    },
    {
      "cell_type": "markdown",
      "id": "b71e5f3b",
      "metadata": {
        "id": "b71e5f3b"
      },
      "source": [
        "## Predicting the Test set results for the Multinomial NB"
      ]
    },
    {
      "cell_type": "code",
      "execution_count": 9,
      "id": "22dd49c2",
      "metadata": {
        "colab": {
          "base_uri": "https://localhost:8080/"
        },
        "id": "22dd49c2",
        "outputId": "1b018e2d-8ffe-46b0-8e4a-b4dce812b842"
      },
      "outputs": [
        {
          "output_type": "stream",
          "name": "stdout",
          "text": [
            "[[0 0]\n",
            " [0 0]\n",
            " [0 0]\n",
            " ...\n",
            " [0 1]\n",
            " [0 0]\n",
            " [0 0]]\n"
          ]
        }
      ],
      "source": [
        "y_pred=multi_model.predict(x_test)\n",
        "print(np.concatenate((y_pred.reshape(len(y_pred),1),y_test.reshape(len(y_test),1)),1))"
      ]
    },
    {
      "cell_type": "markdown",
      "id": "dc8b8bcc",
      "metadata": {
        "id": "dc8b8bcc"
      },
      "source": [
        "## Calculating the Multinomial NB Model's accuracy "
      ]
    },
    {
      "cell_type": "code",
      "execution_count": 10,
      "id": "f374db88",
      "metadata": {
        "colab": {
          "base_uri": "https://localhost:8080/"
        },
        "id": "f374db88",
        "outputId": "d65299a7-cb78-467a-b301-c6190c98f6cb"
      },
      "outputs": [
        {
          "output_type": "stream",
          "name": "stdout",
          "text": [
            "0.9572018520835941\n"
          ]
        }
      ],
      "source": [
        "from sklearn.metrics import accuracy_score  \n",
        "print(accuracy_score(y_test, y_pred))"
      ]
    },
    {
      "cell_type": "markdown",
      "id": "10fc5b0f",
      "metadata": {
        "id": "10fc5b0f"
      },
      "source": [
        " ## Making a prediciton using the Multinomial NB Model"
      ]
    },
    {
      "cell_type": "code",
      "execution_count": 11,
      "id": "3c6d116a",
      "metadata": {
        "colab": {
          "base_uri": "https://localhost:8080/"
        },
        "id": "3c6d116a",
        "outputId": "02224aae-3724-4782-b8d4-51732f8d2719"
      },
      "outputs": [
        {
          "output_type": "stream",
          "name": "stdout",
          "text": [
            "[1]\n"
          ]
        }
      ],
      "source": [
        "test_msg = [\"@user hey, black people: you can call people 'black' by @user  #race  #identity\"]\n",
        "test_msg=cv.transform(test_msg)\n",
        "print(multi_model.predict(test_msg))"
      ]
    },
    {
      "cell_type": "markdown",
      "source": [
        "**Use predict method that's part of MultinomialNB**\n"
      ],
      "metadata": {
        "id": "iNfl77bdUWON"
      },
      "id": "iNfl77bdUWON"
    },
    {
      "cell_type": "code",
      "source": [
        "nb = MultinomialNB()\n",
        "nb.fit(x_train, y_train)\n",
        "\n",
        "y_predicted = nb.predict(x_test)"
      ],
      "metadata": {
        "id": "u4g6yHHDQ0Gy"
      },
      "id": "u4g6yHHDQ0Gy",
      "execution_count": 15,
      "outputs": []
    },
    {
      "cell_type": "markdown",
      "source": [
        "**Evaluate the predictions based on the accuracy**"
      ],
      "metadata": {
        "id": "3_p8fsFEU2Q0"
      },
      "id": "3_p8fsFEU2Q0"
    },
    {
      "cell_type": "code",
      "source": [
        "from sklearn.metrics import accuracy_score\n",
        "\n",
        "accuracy_score(y_test, y_predicted) "
      ],
      "metadata": {
        "colab": {
          "base_uri": "https://localhost:8080/"
        },
        "id": "wqb3cBk8SA5K",
        "outputId": "908683b6-5828-4340-d2e7-389eec5611bd"
      },
      "id": "wqb3cBk8SA5K",
      "execution_count": 16,
      "outputs": [
        {
          "output_type": "execute_result",
          "data": {
            "text/plain": [
              "0.9572018520835941"
            ]
          },
          "metadata": {},
          "execution_count": 16
        }
      ]
    },
    {
      "cell_type": "code",
      "source": [
        "#from sklearn.preprocessing import LabelEncoder\n",
        "#from keras.utils import np_utils\n",
        "\n",
        "# encode class values as integers\n",
        "#encoder = LabelEncoder()\n",
        "#encoder.fit(y_test)\n",
        "#encoded_Y = encoder.transform(y_predicted)\n",
        "# convert integers to dummy variables (i.e. one hot encoded)\n",
        "#dummy_y = np_utils.to_categorical(encoded_Y)\n",
        "#y_predicted_labels = encoder.inverse_transform(y_predicted) \n",
        "#print(y_predicted_labels)"
      ],
      "metadata": {
        "colab": {
          "base_uri": "https://localhost:8080/"
        },
        "id": "9i11ENhCSGuM",
        "outputId": "469a38db-411f-4079-d685-fd9197c05325"
      },
      "id": "9i11ENhCSGuM",
      "execution_count": 23,
      "outputs": [
        {
          "output_type": "stream",
          "name": "stdout",
          "text": [
            "[0 0 0 ... 0 0 0]\n"
          ]
        }
      ]
    }
  ],
  "metadata": {
    "kernelspec": {
      "display_name": "Python 3",
      "language": "python",
      "name": "python3"
    },
    "language_info": {
      "codemirror_mode": {
        "name": "ipython",
        "version": 3
      },
      "file_extension": ".py",
      "mimetype": "text/x-python",
      "name": "python",
      "nbconvert_exporter": "python",
      "pygments_lexer": "ipython3",
      "version": "3.8.8"
    },
    "colab": {
      "provenance": [],
      "collapsed_sections": [
        "bc60d141"
      ]
    }
  },
  "nbformat": 4,
  "nbformat_minor": 5
}